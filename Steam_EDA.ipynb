{
 "cells": [
  {
   "cell_type": "markdown",
   "id": "fe9937c1",
   "metadata": {},
   "source": [
    "En este proyecto usaremos un Dataset con 27.075 juegos en Steam, la popular plataforma de juegos de PC. Esta lista está actualizada desde el inicio hasta Abril de 2019.\n",
    "\n",
    "Responderemos las siguientes preguntas:\n",
    "1. Cual es el TOP10 de juegos más jugados?\n",
    "2. Cuál es el género de videojuegos más vendido?\n",
    "3. Qué géneros tienen mejores reviews de media?\n",
    "4. Cuánto ha ganado el desarrollador que más juegos ha vendido?\n",
    "5. Cómo afecta a las reviews que un juego sea Early Access?\n",
    "6. Cuál es el desarrollador (o desarrolladores) que más tipos de juego y cantidad ha desarrollado?\n",
    "7. En qué mes, desde que tenemos datos, se han publicado más juegos?\n",
    "8. Cuántas horas se juega de media a cada tipo de juego mensualmente?\n",
    "9. Los juegos Free to Play tienen mejores o peores reviews?\n",
    "10. Cómo ha evolucionado el número de achievements (trofeos) por juego?\n"
   ]
  },
  {
   "cell_type": "markdown",
   "id": "18df0261",
   "metadata": {},
   "source": [
    "# Importando librerías"
   ]
  },
  {
   "cell_type": "code",
   "execution_count": 1,
   "id": "923c8888",
   "metadata": {},
   "outputs": [],
   "source": [
    "import pandas as pd\n",
    "import numpy as np\n",
    "import matplotlib.pyplot as plt\n",
    "import seaborn as sns"
   ]
  },
  {
   "cell_type": "markdown",
   "id": "e3acb737",
   "metadata": {},
   "source": [
    "# Consiguiendo los datos"
   ]
  },
  {
   "cell_type": "markdown",
   "id": "d80298c8",
   "metadata": {},
   "source": [
    "## Descomprimir el archivo"
   ]
  },
  {
   "cell_type": "code",
   "execution_count": 2,
   "id": "515ffb9f",
   "metadata": {},
   "outputs": [],
   "source": [
    "#Usando la librería ZipFile para poder descomprimir el archivo .zip\n",
    "from zipfile import ZipFile\n",
    "steam_zip = ZipFile('C:/Users/hpser/OneDrive/Desktop/SteamDataset-220424-201858.zip')"
   ]
  },
  {
   "cell_type": "code",
   "execution_count": 3,
   "id": "cda40637",
   "metadata": {},
   "outputs": [
    {
     "data": {
      "text/plain": [
       "[<ZipInfo filename='steam.csv' compress_type=deflate external_attr=0x20 file_size=3425223 compress_size=979195>]"
      ]
     },
     "execution_count": 3,
     "metadata": {},
     "output_type": "execute_result"
    }
   ],
   "source": [
    "#Con .filelist se puede observar la información sobre cada archivo dentro del archivo ZIP\n",
    "steam_zip.filelist"
   ]
  },
  {
   "cell_type": "markdown",
   "id": "9a36b95a",
   "metadata": {},
   "source": [
    "## Construir DataFrame"
   ]
  },
  {
   "cell_type": "code",
   "execution_count": 4,
   "id": "715bbc8f",
   "metadata": {},
   "outputs": [
    {
     "data": {
      "text/html": [
       "<div>\n",
       "<style scoped>\n",
       "    .dataframe tbody tr th:only-of-type {\n",
       "        vertical-align: middle;\n",
       "    }\n",
       "\n",
       "    .dataframe tbody tr th {\n",
       "        vertical-align: top;\n",
       "    }\n",
       "\n",
       "    .dataframe thead th {\n",
       "        text-align: right;\n",
       "    }\n",
       "</style>\n",
       "<table border=\"1\" class=\"dataframe\">\n",
       "  <thead>\n",
       "    <tr style=\"text-align: right;\">\n",
       "      <th></th>\n",
       "      <th>name</th>\n",
       "      <th>release_date</th>\n",
       "      <th>developer</th>\n",
       "      <th>achievements</th>\n",
       "      <th>positive_ratings</th>\n",
       "      <th>negative_ratings</th>\n",
       "      <th>avg_hours_per_user</th>\n",
       "      <th>price</th>\n",
       "      <th>sells</th>\n",
       "      <th>action</th>\n",
       "      <th>adventure</th>\n",
       "      <th>rpg</th>\n",
       "      <th>simulation</th>\n",
       "      <th>strategy</th>\n",
       "      <th>racing</th>\n",
       "      <th>free_to_play</th>\n",
       "      <th>early_access</th>\n",
       "    </tr>\n",
       "  </thead>\n",
       "  <tbody>\n",
       "    <tr>\n",
       "      <th>0</th>\n",
       "      <td>Counter-Strike</td>\n",
       "      <td>2000-11-01</td>\n",
       "      <td>Valve</td>\n",
       "      <td>0</td>\n",
       "      <td>124534</td>\n",
       "      <td>3339</td>\n",
       "      <td>17612</td>\n",
       "      <td>7.19€</td>\n",
       "      <td>15000000.0</td>\n",
       "      <td>True</td>\n",
       "      <td>False</td>\n",
       "      <td>False</td>\n",
       "      <td>False</td>\n",
       "      <td>False</td>\n",
       "      <td>False</td>\n",
       "      <td>False</td>\n",
       "      <td>False</td>\n",
       "    </tr>\n",
       "    <tr>\n",
       "      <th>1</th>\n",
       "      <td>Team Fortress Classic</td>\n",
       "      <td>1999-04-01</td>\n",
       "      <td>Valve</td>\n",
       "      <td>0</td>\n",
       "      <td>3318</td>\n",
       "      <td>633</td>\n",
       "      <td>277</td>\n",
       "      <td>3.99€</td>\n",
       "      <td>7500000.0</td>\n",
       "      <td>True</td>\n",
       "      <td>False</td>\n",
       "      <td>False</td>\n",
       "      <td>False</td>\n",
       "      <td>False</td>\n",
       "      <td>False</td>\n",
       "      <td>False</td>\n",
       "      <td>False</td>\n",
       "    </tr>\n",
       "    <tr>\n",
       "      <th>2</th>\n",
       "      <td>Day of Defeat</td>\n",
       "      <td>2003-05-01</td>\n",
       "      <td>Valve</td>\n",
       "      <td>0</td>\n",
       "      <td>3416</td>\n",
       "      <td>398</td>\n",
       "      <td>187</td>\n",
       "      <td>3.99€</td>\n",
       "      <td>7500000.0</td>\n",
       "      <td>True</td>\n",
       "      <td>False</td>\n",
       "      <td>False</td>\n",
       "      <td>False</td>\n",
       "      <td>False</td>\n",
       "      <td>False</td>\n",
       "      <td>False</td>\n",
       "      <td>False</td>\n",
       "    </tr>\n",
       "    <tr>\n",
       "      <th>3</th>\n",
       "      <td>Deathmatch Classic</td>\n",
       "      <td>2001-06-01</td>\n",
       "      <td>Valve</td>\n",
       "      <td>0</td>\n",
       "      <td>1273</td>\n",
       "      <td>267</td>\n",
       "      <td>258</td>\n",
       "      <td>3.99€</td>\n",
       "      <td>7500000.0</td>\n",
       "      <td>True</td>\n",
       "      <td>False</td>\n",
       "      <td>False</td>\n",
       "      <td>False</td>\n",
       "      <td>False</td>\n",
       "      <td>False</td>\n",
       "      <td>False</td>\n",
       "      <td>False</td>\n",
       "    </tr>\n",
       "    <tr>\n",
       "      <th>4</th>\n",
       "      <td>Half-Life: Opposing Force</td>\n",
       "      <td>1999-11-01</td>\n",
       "      <td>Gearbox Software</td>\n",
       "      <td>0</td>\n",
       "      <td>5250</td>\n",
       "      <td>288</td>\n",
       "      <td>624</td>\n",
       "      <td>3.99€</td>\n",
       "      <td>7500000.0</td>\n",
       "      <td>True</td>\n",
       "      <td>False</td>\n",
       "      <td>False</td>\n",
       "      <td>False</td>\n",
       "      <td>False</td>\n",
       "      <td>False</td>\n",
       "      <td>False</td>\n",
       "      <td>False</td>\n",
       "    </tr>\n",
       "  </tbody>\n",
       "</table>\n",
       "</div>"
      ],
      "text/plain": [
       "                        name release_date         developer  achievements  \\\n",
       "0             Counter-Strike   2000-11-01             Valve             0   \n",
       "1      Team Fortress Classic   1999-04-01             Valve             0   \n",
       "2              Day of Defeat   2003-05-01             Valve             0   \n",
       "3         Deathmatch Classic   2001-06-01             Valve             0   \n",
       "4  Half-Life: Opposing Force   1999-11-01  Gearbox Software             0   \n",
       "\n",
       "   positive_ratings  negative_ratings  avg_hours_per_user  price       sells  \\\n",
       "0            124534              3339               17612  7.19€  15000000.0   \n",
       "1              3318               633                 277  3.99€   7500000.0   \n",
       "2              3416               398                 187  3.99€   7500000.0   \n",
       "3              1273               267                 258  3.99€   7500000.0   \n",
       "4              5250               288                 624  3.99€   7500000.0   \n",
       "\n",
       "   action  adventure    rpg  simulation  strategy  racing  free_to_play  \\\n",
       "0    True      False  False       False     False   False         False   \n",
       "1    True      False  False       False     False   False         False   \n",
       "2    True      False  False       False     False   False         False   \n",
       "3    True      False  False       False     False   False         False   \n",
       "4    True      False  False       False     False   False         False   \n",
       "\n",
       "   early_access  \n",
       "0         False  \n",
       "1         False  \n",
       "2         False  \n",
       "3         False  \n",
       "4         False  "
      ]
     },
     "execution_count": 4,
     "metadata": {},
     "output_type": "execute_result"
    }
   ],
   "source": [
    "#Se creerá un DataFrame leyendo los datos del archivo .csv\n",
    "df = pd.read_csv(steam_zip.open('steam.csv'), index_col=[0])\n",
    "df.head()"
   ]
  },
  {
   "cell_type": "markdown",
   "id": "2ca18c79",
   "metadata": {},
   "source": [
    "# Limpieza y manipulación de datos"
   ]
  },
  {
   "cell_type": "markdown",
   "id": "daf803f8",
   "metadata": {},
   "source": [
    "## Quitar datos duplicados o irrelevantes"
   ]
  },
  {
   "cell_type": "code",
   "execution_count": 5,
   "id": "b62c4b31",
   "metadata": {},
   "outputs": [
    {
     "name": "stdout",
     "output_type": "stream",
     "text": [
      "<class 'pandas.core.frame.DataFrame'>\n",
      "Index: 27103 entries, 0 to 27102\n",
      "Data columns (total 17 columns):\n",
      " #   Column              Non-Null Count  Dtype  \n",
      "---  ------              --------------  -----  \n",
      " 0   name                27103 non-null  object \n",
      " 1   release_date        27103 non-null  object \n",
      " 2   developer           27102 non-null  object \n",
      " 3   achievements        27103 non-null  int64  \n",
      " 4   positive_ratings    27103 non-null  int64  \n",
      " 5   negative_ratings    27103 non-null  int64  \n",
      " 6   avg_hours_per_user  27103 non-null  int64  \n",
      " 7   price               27103 non-null  object \n",
      " 8   sells               27103 non-null  float64\n",
      " 9   action              27103 non-null  bool   \n",
      " 10  adventure           27103 non-null  bool   \n",
      " 11  rpg                 27103 non-null  bool   \n",
      " 12  simulation          27103 non-null  bool   \n",
      " 13  strategy            27103 non-null  bool   \n",
      " 14  racing              27103 non-null  bool   \n",
      " 15  free_to_play        27103 non-null  bool   \n",
      " 16  early_access        27103 non-null  bool   \n",
      "dtypes: bool(8), float64(1), int64(4), object(4)\n",
      "memory usage: 2.3+ MB\n"
     ]
    }
   ],
   "source": [
    "# Resumen del DataFrame\n",
    "df.info()"
   ]
  },
  {
   "cell_type": "code",
   "execution_count": 6,
   "id": "65d8917e",
   "metadata": {
    "scrolled": true
   },
   "outputs": [
    {
     "data": {
      "text/plain": [
       "0        False\n",
       "1        False\n",
       "2        False\n",
       "3        False\n",
       "4        False\n",
       "         ...  \n",
       "27098     True\n",
       "27099     True\n",
       "27100     True\n",
       "27101     True\n",
       "27102     True\n",
       "Length: 27103, dtype: bool"
      ]
     },
     "execution_count": 6,
     "metadata": {},
     "output_type": "execute_result"
    }
   ],
   "source": [
    "#Se verifica si existe filas duplicadas\n",
    "df.duplicated()"
   ]
  },
  {
   "cell_type": "code",
   "execution_count": 7,
   "id": "6d9a623e",
   "metadata": {
    "scrolled": true
   },
   "outputs": [
    {
     "data": {
      "text/plain": [
       "array([False,  True])"
      ]
     },
     "execution_count": 7,
     "metadata": {},
     "output_type": "execute_result"
    }
   ],
   "source": [
    "df.duplicated().unique()"
   ]
  },
  {
   "cell_type": "code",
   "execution_count": 8,
   "id": "e11da127",
   "metadata": {
    "scrolled": true
   },
   "outputs": [
    {
     "data": {
      "text/plain": [
       "False    27075\n",
       "True        28\n",
       "Name: count, dtype: int64"
      ]
     },
     "execution_count": 8,
     "metadata": {},
     "output_type": "execute_result"
    }
   ],
   "source": [
    "df.duplicated().value_counts()"
   ]
  },
  {
   "cell_type": "code",
   "execution_count": 9,
   "id": "85313b6d",
   "metadata": {},
   "outputs": [],
   "source": [
    "df = df.dropna() #Eliminamos todas las filas que contienen al menos un valor nulo (NaN)\n",
    "df = df.drop_duplicates() #Eliminamos las filas duplicadas del DataFrame"
   ]
  },
  {
   "cell_type": "code",
   "execution_count": 10,
   "id": "25e24adf",
   "metadata": {},
   "outputs": [
    {
     "data": {
      "text/plain": [
       "False"
      ]
     },
     "execution_count": 10,
     "metadata": {},
     "output_type": "execute_result"
    }
   ],
   "source": [
    "#Verificamos si hay filas duplicadas en el DataFrame\n",
    "df.duplicated().any()"
   ]
  },
  {
   "cell_type": "code",
   "execution_count": 11,
   "id": "4c152dbd",
   "metadata": {},
   "outputs": [
    {
     "data": {
      "text/plain": [
       "False    27074\n",
       "Name: count, dtype: int64"
      ]
     },
     "execution_count": 11,
     "metadata": {},
     "output_type": "execute_result"
    }
   ],
   "source": [
    "#Contamos la cantidad de filas duplicadas y no duplicadas en el DataFrame\n",
    "df.duplicated().value_counts()"
   ]
  },
  {
   "cell_type": "markdown",
   "id": "0fb77f6d",
   "metadata": {},
   "source": [
    "## Arreglar errores estructurales"
   ]
  },
  {
   "cell_type": "code",
   "execution_count": 12,
   "id": "087c63b0",
   "metadata": {
    "scrolled": true
   },
   "outputs": [
    {
     "data": {
      "text/plain": [
       "Index(['name', 'release_date', 'developer', 'achievements', 'positive_ratings',\n",
       "       'negative_ratings', 'avg_hours_per_user', 'price', 'sells', 'action',\n",
       "       'adventure', 'rpg', 'simulation', 'strategy', 'racing', 'free_to_play',\n",
       "       'early_access'],\n",
       "      dtype='object')"
      ]
     },
     "execution_count": 12,
     "metadata": {},
     "output_type": "execute_result"
    }
   ],
   "source": [
    "#Ver los nombres de las columnas del DataFrame\n",
    "df.columns"
   ]
  },
  {
   "cell_type": "markdown",
   "id": "04610459",
   "metadata": {},
   "source": [
    "### Definir errores\n"
   ]
  },
  {
   "cell_type": "markdown",
   "id": "90ef1a0e",
   "metadata": {},
   "source": [
    "1. Columna \"price\" quitarle el simbolo de euros, y renombrar la columna como \"price (EUR)\".\n",
    "2. Las columnas de tipo String, deben estar en miniscúlas.\n",
    "3. Arreglar la columna \"release_date\"."
   ]
  },
  {
   "cell_type": "markdown",
   "id": "a3b8884f",
   "metadata": {},
   "source": [
    "__*Arreglar la columna \"price\"*__"
   ]
  },
  {
   "cell_type": "code",
   "execution_count": 13,
   "id": "f2ea31aa",
   "metadata": {
    "scrolled": true
   },
   "outputs": [
    {
     "data": {
      "text/plain": [
       "array(['7.19€', '3.99€', '0.0€', '5.79€', '5.99€', '14.99€', '6.99€',\n",
       "       '22.99€', '4.99€', '10.99€', '2.99€', '4.29€', '12.99€', '2.49€',\n",
       "       '9.99€', '1.99€', '15.99€', '3.49€', '24.99€', '8.59€', '7.99€',\n",
       "       '4.49€', '4.25€', '5.59€', '25.99€', '8.99€', '4.79€', '13.99€',\n",
       "       '8.29€', '9.29€', '19.99€', '1.79€', '16.99€', '8.69€', '7.49€',\n",
       "       '0.79€', '1.69€', '15.49€', '1.49€', '17.99€', '11.99€', '35.96€',\n",
       "       '6.49€', '1.59€', '34.99€', '0.99€', '5.19€', '2.09€', '29.99€',\n",
       "       '19.98€', '2.79€', '2.89€', '34.95€', '12.49€', '11.39€', '4.39€',\n",
       "       '18.99€', '95.99€', '10.59€', '6.19€', '39.99€', '26.99€',\n",
       "       '30.99€', '6.0€', '23.99€', '52.99€', '33.99€', '12.39€', '8.49€',\n",
       "       '23.79€', '19.49€', '38.99€', '23.39€', '6.95€', '11.49€',\n",
       "       '18.74€', '20.99€', '60.99€', '5.49€', '69.99€', '13.49€',\n",
       "       '78.99€', '17.98€', '27.79€', '27.11€', '75.99€', '44.98€',\n",
       "       '11.69€', '2.29€', '54.99€', '44.99€', '27.0€', '4.65€', '14.49€',\n",
       "       '13.5€', '13.59€', '16.3€', '11.0€', '49.99€', '7.5€', '3.29€',\n",
       "       '10.29€', '17.49€', '13.0€', '4.5€', '27.99€', '8.89€', '4.59€',\n",
       "       '6.69€', '31.99€', '32.99€', '36.99€', '9.0€', '3.19€', '5.69€',\n",
       "       '1.5€', '46.49€', '22.49€', '1.0€', '55.99€', '3.5€', '41.99€',\n",
       "       '25.79€', '13.37€', '7.0€', '39.95€', '6.35€', '6.15€', '10.0€',\n",
       "       '0.32€', '32.5€', '2.59€', '0.75€', '45.0€', '0.59€', '19.9€',\n",
       "       '4.24€', '3.23€', '11.24€', '0.49€', '5.8€', '27.1€', '21.0€',\n",
       "       '2.28€', '0.9€', '98.99€', '6.29€', '154.99€', '6.39€', '4.12€',\n",
       "       '21.99€', '6.59€', '5.0€', '18.39€', '3.92€', '15.0€', '18.1€',\n",
       "       '0.72€', '11.95€', '4.95€', '1.55€', '20.51€', '11.75€', '2.69€',\n",
       "       '209.99€', '12.0€', '7.2€', '5.54€', '44.8€', '14.69€', '3.1€',\n",
       "       '4.69€', '2.5€', '1.65€', '9.9€', '18.49€', '2.3€', '74.99€',\n",
       "       '2.39€', '5.95€', '7.9€', '0.78€', '15.9€', '16.66€', '7.77€',\n",
       "       '10.49€', '114.99€', '303.99€', '2.0€', '7.59€', '3.59€', '2.85€',\n",
       "       '14.95€', '3.79€', '4.7€', '7.7€', '6.79€', '37.99€', '7.09€',\n",
       "       '10.79€', '16.74€', '4.0€', '2.36€', '2.24€', '3.53€', '0.89€',\n",
       "       '24.0€', '8.0€', '0.8€', '2.8€', '1.95€', '24.9€', '7.12€',\n",
       "       '2.07€', '12.58€', '3.09€', '1.43€', '14.21€', '3.0€', '5.05€',\n",
       "       '3.04€', '0.74€', '11.89€', '2.13€', '7.74€', '24.5€', '3.89€',\n",
       "       '1.1€', '62.99€', '1.68€', '79.99€', '2.1€', '1.3€', '1.9€',\n",
       "       '11.9€', '7.18€', '8.9€', '2.19€', '1.98€', '2.15€', '49.9€',\n",
       "       '1.01€', '6.89€', '421.99€', '3.03€', '6.28€', '12.89€', '14.0€',\n",
       "       '3.14€', '0.85€', '11.4€', '10.9€', '1.2€', '15.8€', '5.34€',\n",
       "       '1.19€', '1.7€', '4.2€', '20.0€', '6.2€', '17.0€', '11.29€',\n",
       "       '11.5€', '11.79€', '8.02€', '2.26€', '5.39€', '9.95€', '1.8€',\n",
       "       '3.98€', '15.4€', '6.54€', '3.15€', '2.35€', '18.9€', '3.02€',\n",
       "       '7.42€', '0.77€', '2.95€', '5.2€', '8.5€', '6.1€'], dtype=object)"
      ]
     },
     "execution_count": 13,
     "metadata": {},
     "output_type": "execute_result"
    }
   ],
   "source": [
    "#Observaremos los valores de la columna 'price'\n",
    "df['price'].unique()"
   ]
  },
  {
   "cell_type": "code",
   "execution_count": 14,
   "id": "7c8a9a33",
   "metadata": {},
   "outputs": [
    {
     "data": {
      "text/plain": [
       "0        7.19€\n",
       "1        3.99€\n",
       "2        3.99€\n",
       "3        3.99€\n",
       "4        3.99€\n",
       "         ...  \n",
       "27070    2.09€\n",
       "27071    1.69€\n",
       "27072    3.99€\n",
       "27073    5.19€\n",
       "27074    5.19€\n",
       "Name: price, Length: 27074, dtype: object"
      ]
     },
     "execution_count": 14,
     "metadata": {},
     "output_type": "execute_result"
    }
   ],
   "source": [
    "df['price']"
   ]
  },
  {
   "cell_type": "code",
   "execution_count": 15,
   "id": "48b59395",
   "metadata": {},
   "outputs": [],
   "source": [
    "# Convertir la columna de precio a tipo numérico (eliminando el símbolo de euro)\n",
    "df['price'] = df['price'].str.replace('€', '').apply(float)"
   ]
  },
  {
   "cell_type": "code",
   "execution_count": 16,
   "id": "d55f4c63",
   "metadata": {},
   "outputs": [
    {
     "data": {
      "text/plain": [
       "0        7.19\n",
       "1        3.99\n",
       "2        3.99\n",
       "3        3.99\n",
       "4        3.99\n",
       "         ... \n",
       "27070    2.09\n",
       "27071    1.69\n",
       "27072    3.99\n",
       "27073    5.19\n",
       "27074    5.19\n",
       "Name: price, Length: 27074, dtype: float64"
      ]
     },
     "execution_count": 16,
     "metadata": {},
     "output_type": "execute_result"
    }
   ],
   "source": [
    "df['price']"
   ]
  },
  {
   "cell_type": "code",
   "execution_count": 17,
   "id": "b483b8c2",
   "metadata": {
    "scrolled": true
   },
   "outputs": [
    {
     "data": {
      "text/html": [
       "<div>\n",
       "<style scoped>\n",
       "    .dataframe tbody tr th:only-of-type {\n",
       "        vertical-align: middle;\n",
       "    }\n",
       "\n",
       "    .dataframe tbody tr th {\n",
       "        vertical-align: top;\n",
       "    }\n",
       "\n",
       "    .dataframe thead th {\n",
       "        text-align: right;\n",
       "    }\n",
       "</style>\n",
       "<table border=\"1\" class=\"dataframe\">\n",
       "  <thead>\n",
       "    <tr style=\"text-align: right;\">\n",
       "      <th></th>\n",
       "      <th>name</th>\n",
       "      <th>release_date</th>\n",
       "      <th>developer</th>\n",
       "      <th>achievements</th>\n",
       "      <th>positive_ratings</th>\n",
       "      <th>negative_ratings</th>\n",
       "      <th>avg_hours_per_user</th>\n",
       "      <th>price(EUR)</th>\n",
       "      <th>sells</th>\n",
       "      <th>action</th>\n",
       "      <th>adventure</th>\n",
       "      <th>rpg</th>\n",
       "      <th>simulation</th>\n",
       "      <th>strategy</th>\n",
       "      <th>racing</th>\n",
       "      <th>free_to_play</th>\n",
       "      <th>early_access</th>\n",
       "    </tr>\n",
       "  </thead>\n",
       "  <tbody>\n",
       "    <tr>\n",
       "      <th>0</th>\n",
       "      <td>Counter-Strike</td>\n",
       "      <td>2000-11-01</td>\n",
       "      <td>Valve</td>\n",
       "      <td>0</td>\n",
       "      <td>124534</td>\n",
       "      <td>3339</td>\n",
       "      <td>17612</td>\n",
       "      <td>7.19</td>\n",
       "      <td>15000000.0</td>\n",
       "      <td>True</td>\n",
       "      <td>False</td>\n",
       "      <td>False</td>\n",
       "      <td>False</td>\n",
       "      <td>False</td>\n",
       "      <td>False</td>\n",
       "      <td>False</td>\n",
       "      <td>False</td>\n",
       "    </tr>\n",
       "  </tbody>\n",
       "</table>\n",
       "</div>"
      ],
      "text/plain": [
       "             name release_date developer  achievements  positive_ratings  \\\n",
       "0  Counter-Strike   2000-11-01     Valve             0            124534   \n",
       "\n",
       "   negative_ratings  avg_hours_per_user  price(EUR)       sells  action  \\\n",
       "0              3339               17612        7.19  15000000.0    True   \n",
       "\n",
       "   adventure    rpg  simulation  strategy  racing  free_to_play  early_access  \n",
       "0      False  False       False     False   False         False         False  "
      ]
     },
     "execution_count": 17,
     "metadata": {},
     "output_type": "execute_result"
    }
   ],
   "source": [
    "# Renombramos la columna 'price' a 'price(EUR)' en el DataFrame\n",
    "df.rename(columns={'price':'price(EUR)'}).head(1)"
   ]
  },
  {
   "cell_type": "markdown",
   "id": "b8a2a13b",
   "metadata": {},
   "source": [
    "__*Arreglamos las columnas \"name\" y \"developer\"*__"
   ]
  },
  {
   "cell_type": "code",
   "execution_count": 18,
   "id": "91fdeb28",
   "metadata": {},
   "outputs": [],
   "source": [
    "#Definimos una lista que contiene las columnas \"name\" y \"developer\"\n",
    "cols = ['name', 'developer']"
   ]
  },
  {
   "cell_type": "code",
   "execution_count": 19,
   "id": "05fbfd2c",
   "metadata": {},
   "outputs": [],
   "source": [
    "#Convertir las columnas \"name\" y \"developer\" a minúsculas\n",
    "df[cols] = df[cols].apply(lambda x: x.str.lower())"
   ]
  },
  {
   "cell_type": "code",
   "execution_count": 20,
   "id": "921e956f",
   "metadata": {
    "scrolled": true
   },
   "outputs": [
    {
     "data": {
      "text/html": [
       "<div>\n",
       "<style scoped>\n",
       "    .dataframe tbody tr th:only-of-type {\n",
       "        vertical-align: middle;\n",
       "    }\n",
       "\n",
       "    .dataframe tbody tr th {\n",
       "        vertical-align: top;\n",
       "    }\n",
       "\n",
       "    .dataframe thead th {\n",
       "        text-align: right;\n",
       "    }\n",
       "</style>\n",
       "<table border=\"1\" class=\"dataframe\">\n",
       "  <thead>\n",
       "    <tr style=\"text-align: right;\">\n",
       "      <th></th>\n",
       "      <th>name</th>\n",
       "      <th>release_date</th>\n",
       "      <th>developer</th>\n",
       "    </tr>\n",
       "  </thead>\n",
       "  <tbody>\n",
       "    <tr>\n",
       "      <th>0</th>\n",
       "      <td>counter-strike</td>\n",
       "      <td>2000-11-01</td>\n",
       "      <td>valve</td>\n",
       "    </tr>\n",
       "    <tr>\n",
       "      <th>1</th>\n",
       "      <td>team fortress classic</td>\n",
       "      <td>1999-04-01</td>\n",
       "      <td>valve</td>\n",
       "    </tr>\n",
       "    <tr>\n",
       "      <th>2</th>\n",
       "      <td>day of defeat</td>\n",
       "      <td>2003-05-01</td>\n",
       "      <td>valve</td>\n",
       "    </tr>\n",
       "    <tr>\n",
       "      <th>3</th>\n",
       "      <td>deathmatch classic</td>\n",
       "      <td>2001-06-01</td>\n",
       "      <td>valve</td>\n",
       "    </tr>\n",
       "    <tr>\n",
       "      <th>4</th>\n",
       "      <td>half-life: opposing force</td>\n",
       "      <td>1999-11-01</td>\n",
       "      <td>gearbox software</td>\n",
       "    </tr>\n",
       "    <tr>\n",
       "      <th>...</th>\n",
       "      <td>...</td>\n",
       "      <td>...</td>\n",
       "      <td>...</td>\n",
       "    </tr>\n",
       "    <tr>\n",
       "      <th>27070</th>\n",
       "      <td>room of pandora</td>\n",
       "      <td>2019-04-24</td>\n",
       "      <td>shen jiawei</td>\n",
       "    </tr>\n",
       "    <tr>\n",
       "      <th>27071</th>\n",
       "      <td>cyber gun</td>\n",
       "      <td>2019-04-23</td>\n",
       "      <td>semyon maximov</td>\n",
       "    </tr>\n",
       "    <tr>\n",
       "      <th>27072</th>\n",
       "      <td>super star blast</td>\n",
       "      <td>2019-04-24</td>\n",
       "      <td>entwicklerx</td>\n",
       "    </tr>\n",
       "    <tr>\n",
       "      <th>27073</th>\n",
       "      <td>new yankee 7: deer hunters</td>\n",
       "      <td>2019-04-17</td>\n",
       "      <td>yustas game studio</td>\n",
       "    </tr>\n",
       "    <tr>\n",
       "      <th>27074</th>\n",
       "      <td>rune lord</td>\n",
       "      <td>2019-04-24</td>\n",
       "      <td>adept studios gd</td>\n",
       "    </tr>\n",
       "  </tbody>\n",
       "</table>\n",
       "<p>27074 rows × 3 columns</p>\n",
       "</div>"
      ],
      "text/plain": [
       "                             name release_date           developer\n",
       "0                  counter-strike   2000-11-01               valve\n",
       "1           team fortress classic   1999-04-01               valve\n",
       "2                   day of defeat   2003-05-01               valve\n",
       "3              deathmatch classic   2001-06-01               valve\n",
       "4       half-life: opposing force   1999-11-01    gearbox software\n",
       "...                           ...          ...                 ...\n",
       "27070             room of pandora   2019-04-24         shen jiawei\n",
       "27071                   cyber gun   2019-04-23      semyon maximov\n",
       "27072            super star blast   2019-04-24         entwicklerx\n",
       "27073  new yankee 7: deer hunters   2019-04-17  yustas game studio\n",
       "27074                   rune lord   2019-04-24    adept studios gd\n",
       "\n",
       "[27074 rows x 3 columns]"
      ]
     },
     "execution_count": 20,
     "metadata": {},
     "output_type": "execute_result"
    }
   ],
   "source": [
    "#Seleccionamos solo las columnas del tipo de objeto (strings)\n",
    "df.select_dtypes(include=[object])"
   ]
  },
  {
   "cell_type": "markdown",
   "id": "57c5511d",
   "metadata": {},
   "source": [
    "Encontramos que la columna 'release_date' es de tipo string, por lo tanto hay que convertir la columna a tipo datetime."
   ]
  },
  {
   "cell_type": "markdown",
   "id": "fecbe651",
   "metadata": {},
   "source": [
    "__*Arreglamos la columna 'release_date'*__"
   ]
  },
  {
   "cell_type": "code",
   "execution_count": 21,
   "id": "5f782b99",
   "metadata": {},
   "outputs": [],
   "source": [
    "# Convertir la fecha a tipo datetime\n",
    "df['release_date'] = pd.to_datetime(df['release_date'])"
   ]
  },
  {
   "cell_type": "code",
   "execution_count": 22,
   "id": "cf2f540f",
   "metadata": {},
   "outputs": [
    {
     "data": {
      "text/plain": [
       "0       2000-11-01\n",
       "1       1999-04-01\n",
       "2       2003-05-01\n",
       "3       2001-06-01\n",
       "4       1999-11-01\n",
       "           ...    \n",
       "27070   2019-04-24\n",
       "27071   2019-04-23\n",
       "27072   2019-04-24\n",
       "27073   2019-04-17\n",
       "27074   2019-04-24\n",
       "Name: release_date, Length: 27074, dtype: datetime64[ns]"
      ]
     },
     "execution_count": 22,
     "metadata": {},
     "output_type": "execute_result"
    }
   ],
   "source": [
    "df['release_date']"
   ]
  },
  {
   "cell_type": "markdown",
   "id": "82c72807",
   "metadata": {},
   "source": [
    "## Filtrar outliers "
   ]
  },
  {
   "cell_type": "code",
   "execution_count": 23,
   "id": "6fa2e9ad",
   "metadata": {
    "scrolled": true
   },
   "outputs": [
    {
     "data": {
      "text/html": [
       "<div>\n",
       "<style scoped>\n",
       "    .dataframe tbody tr th:only-of-type {\n",
       "        vertical-align: middle;\n",
       "    }\n",
       "\n",
       "    .dataframe tbody tr th {\n",
       "        vertical-align: top;\n",
       "    }\n",
       "\n",
       "    .dataframe thead th {\n",
       "        text-align: right;\n",
       "    }\n",
       "</style>\n",
       "<table border=\"1\" class=\"dataframe\">\n",
       "  <thead>\n",
       "    <tr style=\"text-align: right;\">\n",
       "      <th></th>\n",
       "      <th>release_date</th>\n",
       "      <th>achievements</th>\n",
       "      <th>positive_ratings</th>\n",
       "      <th>negative_ratings</th>\n",
       "      <th>avg_hours_per_user</th>\n",
       "      <th>price</th>\n",
       "      <th>sells</th>\n",
       "    </tr>\n",
       "  </thead>\n",
       "  <tbody>\n",
       "    <tr>\n",
       "      <th>count</th>\n",
       "      <td>27074</td>\n",
       "      <td>27074.000000</td>\n",
       "      <td>2.707400e+04</td>\n",
       "      <td>27074.000000</td>\n",
       "      <td>27074.000000</td>\n",
       "      <td>27074.000000</td>\n",
       "      <td>2.707400e+04</td>\n",
       "    </tr>\n",
       "    <tr>\n",
       "      <th>mean</th>\n",
       "      <td>2016-12-31 13:48:36.539853824</td>\n",
       "      <td>45.250536</td>\n",
       "      <td>1.000595e+03</td>\n",
       "      <td>211.034904</td>\n",
       "      <td>149.810482</td>\n",
       "      <td>6.078270</td>\n",
       "      <td>1.340951e+05</td>\n",
       "    </tr>\n",
       "    <tr>\n",
       "      <th>min</th>\n",
       "      <td>1997-06-30 00:00:00</td>\n",
       "      <td>0.000000</td>\n",
       "      <td>0.000000e+00</td>\n",
       "      <td>0.000000</td>\n",
       "      <td>0.000000</td>\n",
       "      <td>0.000000</td>\n",
       "      <td>1.000000e+04</td>\n",
       "    </tr>\n",
       "    <tr>\n",
       "      <th>25%</th>\n",
       "      <td>2016-04-04 00:00:00</td>\n",
       "      <td>0.000000</td>\n",
       "      <td>6.000000e+00</td>\n",
       "      <td>2.000000</td>\n",
       "      <td>0.000000</td>\n",
       "      <td>1.690000</td>\n",
       "      <td>1.000000e+04</td>\n",
       "    </tr>\n",
       "    <tr>\n",
       "      <th>50%</th>\n",
       "      <td>2017-08-08 00:00:00</td>\n",
       "      <td>7.000000</td>\n",
       "      <td>2.400000e+01</td>\n",
       "      <td>9.000000</td>\n",
       "      <td>0.000000</td>\n",
       "      <td>3.990000</td>\n",
       "      <td>1.000000e+04</td>\n",
       "    </tr>\n",
       "    <tr>\n",
       "      <th>75%</th>\n",
       "      <td>2018-06-06 00:00:00</td>\n",
       "      <td>23.000000</td>\n",
       "      <td>1.260000e+02</td>\n",
       "      <td>42.000000</td>\n",
       "      <td>0.000000</td>\n",
       "      <td>7.190000</td>\n",
       "      <td>3.500000e+04</td>\n",
       "    </tr>\n",
       "    <tr>\n",
       "      <th>max</th>\n",
       "      <td>2019-05-01 00:00:00</td>\n",
       "      <td>9821.000000</td>\n",
       "      <td>2.644404e+06</td>\n",
       "      <td>487076.000000</td>\n",
       "      <td>190625.000000</td>\n",
       "      <td>421.990000</td>\n",
       "      <td>1.500000e+08</td>\n",
       "    </tr>\n",
       "    <tr>\n",
       "      <th>std</th>\n",
       "      <td>NaN</td>\n",
       "      <td>352.676687</td>\n",
       "      <td>1.898907e+04</td>\n",
       "      <td>4285.017477</td>\n",
       "      <td>1827.071657</td>\n",
       "      <td>7.875057</td>\n",
       "      <td>1.328113e+06</td>\n",
       "    </tr>\n",
       "  </tbody>\n",
       "</table>\n",
       "</div>"
      ],
      "text/plain": [
       "                        release_date  achievements  positive_ratings  \\\n",
       "count                          27074  27074.000000      2.707400e+04   \n",
       "mean   2016-12-31 13:48:36.539853824     45.250536      1.000595e+03   \n",
       "min              1997-06-30 00:00:00      0.000000      0.000000e+00   \n",
       "25%              2016-04-04 00:00:00      0.000000      6.000000e+00   \n",
       "50%              2017-08-08 00:00:00      7.000000      2.400000e+01   \n",
       "75%              2018-06-06 00:00:00     23.000000      1.260000e+02   \n",
       "max              2019-05-01 00:00:00   9821.000000      2.644404e+06   \n",
       "std                              NaN    352.676687      1.898907e+04   \n",
       "\n",
       "       negative_ratings  avg_hours_per_user         price         sells  \n",
       "count      27074.000000        27074.000000  27074.000000  2.707400e+04  \n",
       "mean         211.034904          149.810482      6.078270  1.340951e+05  \n",
       "min            0.000000            0.000000      0.000000  1.000000e+04  \n",
       "25%            2.000000            0.000000      1.690000  1.000000e+04  \n",
       "50%            9.000000            0.000000      3.990000  1.000000e+04  \n",
       "75%           42.000000            0.000000      7.190000  3.500000e+04  \n",
       "max       487076.000000       190625.000000    421.990000  1.500000e+08  \n",
       "std         4285.017477         1827.071657      7.875057  1.328113e+06  "
      ]
     },
     "execution_count": 23,
     "metadata": {},
     "output_type": "execute_result"
    }
   ],
   "source": [
    "#Generamos un resumen estadístico del DataFrame\n",
    "df.describe()"
   ]
  },
  {
   "cell_type": "markdown",
   "id": "803c8e9c",
   "metadata": {},
   "source": [
    "## Lidiar con NANs"
   ]
  },
  {
   "cell_type": "markdown",
   "id": "4bd5ac5a",
   "metadata": {},
   "source": [
    "Verificamos si hay valores nulos en el DataFrame."
   ]
  },
  {
   "cell_type": "code",
   "execution_count": 24,
   "id": "53a40496",
   "metadata": {
    "scrolled": true
   },
   "outputs": [
    {
     "data": {
      "text/plain": [
       "name                  False\n",
       "release_date          False\n",
       "developer             False\n",
       "achievements          False\n",
       "positive_ratings      False\n",
       "negative_ratings      False\n",
       "avg_hours_per_user    False\n",
       "price                 False\n",
       "sells                 False\n",
       "action                False\n",
       "adventure             False\n",
       "rpg                   False\n",
       "simulation            False\n",
       "strategy              False\n",
       "racing                False\n",
       "free_to_play          False\n",
       "early_access          False\n",
       "dtype: bool"
      ]
     },
     "execution_count": 24,
     "metadata": {},
     "output_type": "execute_result"
    }
   ],
   "source": [
    "#Verificamos si hay al menos un NaN en cada columna\n",
    "df.isna().any()"
   ]
  },
  {
   "cell_type": "markdown",
   "id": "6a1ff706",
   "metadata": {},
   "source": [
    "## Validar nuestros datos"
   ]
  },
  {
   "cell_type": "code",
   "execution_count": 25,
   "id": "762c8568",
   "metadata": {},
   "outputs": [
    {
     "name": "stdout",
     "output_type": "stream",
     "text": [
      "<class 'pandas.core.frame.DataFrame'>\n",
      "Index: 27074 entries, 0 to 27074\n",
      "Data columns (total 17 columns):\n",
      " #   Column              Non-Null Count  Dtype         \n",
      "---  ------              --------------  -----         \n",
      " 0   name                27074 non-null  object        \n",
      " 1   release_date        27074 non-null  datetime64[ns]\n",
      " 2   developer           27074 non-null  object        \n",
      " 3   achievements        27074 non-null  int64         \n",
      " 4   positive_ratings    27074 non-null  int64         \n",
      " 5   negative_ratings    27074 non-null  int64         \n",
      " 6   avg_hours_per_user  27074 non-null  int64         \n",
      " 7   price               27074 non-null  float64       \n",
      " 8   sells               27074 non-null  float64       \n",
      " 9   action              27074 non-null  bool          \n",
      " 10  adventure           27074 non-null  bool          \n",
      " 11  rpg                 27074 non-null  bool          \n",
      " 12  simulation          27074 non-null  bool          \n",
      " 13  strategy            27074 non-null  bool          \n",
      " 14  racing              27074 non-null  bool          \n",
      " 15  free_to_play        27074 non-null  bool          \n",
      " 16  early_access        27074 non-null  bool          \n",
      "dtypes: bool(8), datetime64[ns](1), float64(2), int64(4), object(2)\n",
      "memory usage: 2.3+ MB\n"
     ]
    }
   ],
   "source": [
    "#Resumen del DataFrame\n",
    "df.info()"
   ]
  },
  {
   "cell_type": "markdown",
   "id": "370eca7d",
   "metadata": {},
   "source": [
    "# EDA"
   ]
  },
  {
   "cell_type": "markdown",
   "id": "bc753449",
   "metadata": {},
   "source": [
    "## Cual es el TOP10 de juegos más jugados?"
   ]
  },
  {
   "cell_type": "code",
   "execution_count": 26,
   "id": "707ca7b0",
   "metadata": {
    "scrolled": false
   },
   "outputs": [
    {
     "data": {
      "text/html": [
       "<div>\n",
       "<style scoped>\n",
       "    .dataframe tbody tr th:only-of-type {\n",
       "        vertical-align: middle;\n",
       "    }\n",
       "\n",
       "    .dataframe tbody tr th {\n",
       "        vertical-align: top;\n",
       "    }\n",
       "\n",
       "    .dataframe thead th {\n",
       "        text-align: right;\n",
       "    }\n",
       "</style>\n",
       "<table border=\"1\" class=\"dataframe\">\n",
       "  <thead>\n",
       "    <tr style=\"text-align: right;\">\n",
       "      <th></th>\n",
       "      <th>name</th>\n",
       "      <th>release_date</th>\n",
       "      <th>developer</th>\n",
       "      <th>achievements</th>\n",
       "      <th>positive_ratings</th>\n",
       "      <th>negative_ratings</th>\n",
       "      <th>avg_hours_per_user</th>\n",
       "      <th>price</th>\n",
       "      <th>sells</th>\n",
       "      <th>action</th>\n",
       "      <th>adventure</th>\n",
       "      <th>rpg</th>\n",
       "      <th>simulation</th>\n",
       "      <th>strategy</th>\n",
       "      <th>racing</th>\n",
       "      <th>free_to_play</th>\n",
       "      <th>early_access</th>\n",
       "    </tr>\n",
       "  </thead>\n",
       "  <tbody>\n",
       "    <tr>\n",
       "      <th>0</th>\n",
       "      <td>counter-strike</td>\n",
       "      <td>2000-11-01</td>\n",
       "      <td>valve</td>\n",
       "      <td>0</td>\n",
       "      <td>124534</td>\n",
       "      <td>3339</td>\n",
       "      <td>17612</td>\n",
       "      <td>7.19</td>\n",
       "      <td>15000000.0</td>\n",
       "      <td>True</td>\n",
       "      <td>False</td>\n",
       "      <td>False</td>\n",
       "      <td>False</td>\n",
       "      <td>False</td>\n",
       "      <td>False</td>\n",
       "      <td>False</td>\n",
       "      <td>False</td>\n",
       "    </tr>\n",
       "    <tr>\n",
       "      <th>1</th>\n",
       "      <td>team fortress classic</td>\n",
       "      <td>1999-04-01</td>\n",
       "      <td>valve</td>\n",
       "      <td>0</td>\n",
       "      <td>3318</td>\n",
       "      <td>633</td>\n",
       "      <td>277</td>\n",
       "      <td>3.99</td>\n",
       "      <td>7500000.0</td>\n",
       "      <td>True</td>\n",
       "      <td>False</td>\n",
       "      <td>False</td>\n",
       "      <td>False</td>\n",
       "      <td>False</td>\n",
       "      <td>False</td>\n",
       "      <td>False</td>\n",
       "      <td>False</td>\n",
       "    </tr>\n",
       "    <tr>\n",
       "      <th>2</th>\n",
       "      <td>day of defeat</td>\n",
       "      <td>2003-05-01</td>\n",
       "      <td>valve</td>\n",
       "      <td>0</td>\n",
       "      <td>3416</td>\n",
       "      <td>398</td>\n",
       "      <td>187</td>\n",
       "      <td>3.99</td>\n",
       "      <td>7500000.0</td>\n",
       "      <td>True</td>\n",
       "      <td>False</td>\n",
       "      <td>False</td>\n",
       "      <td>False</td>\n",
       "      <td>False</td>\n",
       "      <td>False</td>\n",
       "      <td>False</td>\n",
       "      <td>False</td>\n",
       "    </tr>\n",
       "    <tr>\n",
       "      <th>3</th>\n",
       "      <td>deathmatch classic</td>\n",
       "      <td>2001-06-01</td>\n",
       "      <td>valve</td>\n",
       "      <td>0</td>\n",
       "      <td>1273</td>\n",
       "      <td>267</td>\n",
       "      <td>258</td>\n",
       "      <td>3.99</td>\n",
       "      <td>7500000.0</td>\n",
       "      <td>True</td>\n",
       "      <td>False</td>\n",
       "      <td>False</td>\n",
       "      <td>False</td>\n",
       "      <td>False</td>\n",
       "      <td>False</td>\n",
       "      <td>False</td>\n",
       "      <td>False</td>\n",
       "    </tr>\n",
       "    <tr>\n",
       "      <th>4</th>\n",
       "      <td>half-life: opposing force</td>\n",
       "      <td>1999-11-01</td>\n",
       "      <td>gearbox software</td>\n",
       "      <td>0</td>\n",
       "      <td>5250</td>\n",
       "      <td>288</td>\n",
       "      <td>624</td>\n",
       "      <td>3.99</td>\n",
       "      <td>7500000.0</td>\n",
       "      <td>True</td>\n",
       "      <td>False</td>\n",
       "      <td>False</td>\n",
       "      <td>False</td>\n",
       "      <td>False</td>\n",
       "      <td>False</td>\n",
       "      <td>False</td>\n",
       "      <td>False</td>\n",
       "    </tr>\n",
       "  </tbody>\n",
       "</table>\n",
       "</div>"
      ],
      "text/plain": [
       "                        name release_date         developer  achievements  \\\n",
       "0             counter-strike   2000-11-01             valve             0   \n",
       "1      team fortress classic   1999-04-01             valve             0   \n",
       "2              day of defeat   2003-05-01             valve             0   \n",
       "3         deathmatch classic   2001-06-01             valve             0   \n",
       "4  half-life: opposing force   1999-11-01  gearbox software             0   \n",
       "\n",
       "   positive_ratings  negative_ratings  avg_hours_per_user  price       sells  \\\n",
       "0            124534              3339               17612   7.19  15000000.0   \n",
       "1              3318               633                 277   3.99   7500000.0   \n",
       "2              3416               398                 187   3.99   7500000.0   \n",
       "3              1273               267                 258   3.99   7500000.0   \n",
       "4              5250               288                 624   3.99   7500000.0   \n",
       "\n",
       "   action  adventure    rpg  simulation  strategy  racing  free_to_play  \\\n",
       "0    True      False  False       False     False   False         False   \n",
       "1    True      False  False       False     False   False         False   \n",
       "2    True      False  False       False     False   False         False   \n",
       "3    True      False  False       False     False   False         False   \n",
       "4    True      False  False       False     False   False         False   \n",
       "\n",
       "   early_access  \n",
       "0         False  \n",
       "1         False  \n",
       "2         False  \n",
       "3         False  \n",
       "4         False  "
      ]
     },
     "execution_count": 26,
     "metadata": {},
     "output_type": "execute_result"
    }
   ],
   "source": [
    "df.head()"
   ]
  },
  {
   "cell_type": "code",
   "execution_count": 27,
   "id": "17a3f52f",
   "metadata": {
    "scrolled": true
   },
   "outputs": [
    {
     "data": {
      "text/html": [
       "<div>\n",
       "<style scoped>\n",
       "    .dataframe tbody tr th:only-of-type {\n",
       "        vertical-align: middle;\n",
       "    }\n",
       "\n",
       "    .dataframe tbody tr th {\n",
       "        vertical-align: top;\n",
       "    }\n",
       "\n",
       "    .dataframe thead th {\n",
       "        text-align: right;\n",
       "    }\n",
       "</style>\n",
       "<table border=\"1\" class=\"dataframe\">\n",
       "  <thead>\n",
       "    <tr style=\"text-align: right;\">\n",
       "      <th></th>\n",
       "      <th>name</th>\n",
       "      <th>avg_hours_per_user</th>\n",
       "    </tr>\n",
       "  </thead>\n",
       "  <tbody>\n",
       "    <tr>\n",
       "      <th>9201</th>\n",
       "      <td>the abbey of crime extensum</td>\n",
       "      <td>190625</td>\n",
       "    </tr>\n",
       "    <tr>\n",
       "      <th>1478</th>\n",
       "      <td>the banner saga: factions</td>\n",
       "      <td>95245</td>\n",
       "    </tr>\n",
       "    <tr>\n",
       "      <th>6014</th>\n",
       "      <td>the secret of tremendous corporation</td>\n",
       "      <td>95242</td>\n",
       "    </tr>\n",
       "    <tr>\n",
       "      <th>8969</th>\n",
       "      <td>price</td>\n",
       "      <td>63481</td>\n",
       "    </tr>\n",
       "    <tr>\n",
       "      <th>3930</th>\n",
       "      <td>boundless</td>\n",
       "      <td>55204</td>\n",
       "    </tr>\n",
       "    <tr>\n",
       "      <th>3969</th>\n",
       "      <td>shroud of the avatar: forsaken virtues</td>\n",
       "      <td>54618</td>\n",
       "    </tr>\n",
       "    <tr>\n",
       "      <th>2435</th>\n",
       "      <td>x-plane 11</td>\n",
       "      <td>44169</td>\n",
       "    </tr>\n",
       "    <tr>\n",
       "      <th>23409</th>\n",
       "      <td>懒人修仙传</td>\n",
       "      <td>43632</td>\n",
       "    </tr>\n",
       "    <tr>\n",
       "      <th>2023</th>\n",
       "      <td>fantasy grounds</td>\n",
       "      <td>43074</td>\n",
       "    </tr>\n",
       "    <tr>\n",
       "      <th>8919</th>\n",
       "      <td>screeps</td>\n",
       "      <td>38805</td>\n",
       "    </tr>\n",
       "  </tbody>\n",
       "</table>\n",
       "</div>"
      ],
      "text/plain": [
       "                                         name  avg_hours_per_user\n",
       "9201              the abbey of crime extensum              190625\n",
       "1478                the banner saga: factions               95245\n",
       "6014     the secret of tremendous corporation               95242\n",
       "8969                                    price               63481\n",
       "3930                                boundless               55204\n",
       "3969   shroud of the avatar: forsaken virtues               54618\n",
       "2435                               x-plane 11               44169\n",
       "23409                                   懒人修仙传               43632\n",
       "2023                          fantasy grounds               43074\n",
       "8919                                  screeps               38805"
      ]
     },
     "execution_count": 27,
     "metadata": {},
     "output_type": "execute_result"
    }
   ],
   "source": [
    "# Utilizamos el método nlargest() para seleccionar las 10 filas con los valores más altos\n",
    "# en la columna 'avg_hours_per_user'.\n",
    "top_10_juegos = df.nlargest(10, 'avg_hours_per_user')[['name', 'avg_hours_per_user']]\n",
    "top_10_juegos"
   ]
  },
  {
   "cell_type": "code",
   "execution_count": 28,
   "id": "aabb30a7",
   "metadata": {},
   "outputs": [
    {
     "name": "stderr",
     "output_type": "stream",
     "text": [
      "C:\\Users\\hpser\\anaconda3\\Lib\\site-packages\\IPython\\core\\pylabtools.py:152: UserWarning: Glyph 25042 (\\N{CJK UNIFIED IDEOGRAPH-61D2}) missing from current font.\n",
      "  fig.canvas.print_figure(bytes_io, **kw)\n",
      "C:\\Users\\hpser\\anaconda3\\Lib\\site-packages\\IPython\\core\\pylabtools.py:152: UserWarning: Glyph 20154 (\\N{CJK UNIFIED IDEOGRAPH-4EBA}) missing from current font.\n",
      "  fig.canvas.print_figure(bytes_io, **kw)\n",
      "C:\\Users\\hpser\\anaconda3\\Lib\\site-packages\\IPython\\core\\pylabtools.py:152: UserWarning: Glyph 20462 (\\N{CJK UNIFIED IDEOGRAPH-4FEE}) missing from current font.\n",
      "  fig.canvas.print_figure(bytes_io, **kw)\n",
      "C:\\Users\\hpser\\anaconda3\\Lib\\site-packages\\IPython\\core\\pylabtools.py:152: UserWarning: Glyph 20185 (\\N{CJK UNIFIED IDEOGRAPH-4ED9}) missing from current font.\n",
      "  fig.canvas.print_figure(bytes_io, **kw)\n",
      "C:\\Users\\hpser\\anaconda3\\Lib\\site-packages\\IPython\\core\\pylabtools.py:152: UserWarning: Glyph 20256 (\\N{CJK UNIFIED IDEOGRAPH-4F20}) missing from current font.\n",
      "  fig.canvas.print_figure(bytes_io, **kw)\n"
     ]
    },
    {
     "data": {
      "image/png": "[encoded data removed]",
      "text/plain": [
       "<Figure size 1200x600 with 1 Axes>"
      ]
     },
     "metadata": {},
     "output_type": "display_data"
    }
   ],
   "source": [
    "# Configuramos el estilo de Seaborn\n",
    "sns.set(style=\"whitegrid\")\n",
    "\n",
    "# Creamos un gráfico de barras\n",
    "plt.figure(figsize=(12, 6))  # Ajusta el tamaño del gráfico\n",
    "sns.barplot(x='avg_hours_per_user', y='name', data=top_10_juegos, palette='viridis')\n",
    "\n",
    "# Añadimos títulos y etiquetas\n",
    "plt.title('Top 10 Juegos Más Jugados por Horas Promedio por Usuario')\n",
    "plt.xlabel('Horas Promedio por Usuario')\n",
    "plt.ylabel('Nombre del Juego')\n",
    "\n",
    "# Mostramos el gráfico\n",
    "plt.show()"
   ]
  },
  {
   "cell_type": "markdown",
   "id": "91c856c8",
   "metadata": {},
   "source": [
    "## Cuál es el género de videojuegos más vendido?"
   ]
  },
  {
   "cell_type": "code",
   "execution_count": 29,
   "id": "7a68737c",
   "metadata": {
    "scrolled": true
   },
   "outputs": [
    {
     "data": {
      "text/html": [
       "<div>\n",
       "<style scoped>\n",
       "    .dataframe tbody tr th:only-of-type {\n",
       "        vertical-align: middle;\n",
       "    }\n",
       "\n",
       "    .dataframe tbody tr th {\n",
       "        vertical-align: top;\n",
       "    }\n",
       "\n",
       "    .dataframe thead th {\n",
       "        text-align: right;\n",
       "    }\n",
       "</style>\n",
       "<table border=\"1\" class=\"dataframe\">\n",
       "  <thead>\n",
       "    <tr style=\"text-align: right;\">\n",
       "      <th></th>\n",
       "      <th>name</th>\n",
       "      <th>release_date</th>\n",
       "      <th>developer</th>\n",
       "      <th>achievements</th>\n",
       "      <th>positive_ratings</th>\n",
       "      <th>negative_ratings</th>\n",
       "      <th>avg_hours_per_user</th>\n",
       "      <th>price</th>\n",
       "      <th>sells</th>\n",
       "      <th>action</th>\n",
       "      <th>adventure</th>\n",
       "      <th>rpg</th>\n",
       "      <th>simulation</th>\n",
       "      <th>strategy</th>\n",
       "      <th>racing</th>\n",
       "      <th>free_to_play</th>\n",
       "      <th>early_access</th>\n",
       "    </tr>\n",
       "  </thead>\n",
       "  <tbody>\n",
       "    <tr>\n",
       "      <th>0</th>\n",
       "      <td>counter-strike</td>\n",
       "      <td>2000-11-01</td>\n",
       "      <td>valve</td>\n",
       "      <td>0</td>\n",
       "      <td>124534</td>\n",
       "      <td>3339</td>\n",
       "      <td>17612</td>\n",
       "      <td>7.19</td>\n",
       "      <td>15000000.0</td>\n",
       "      <td>True</td>\n",
       "      <td>False</td>\n",
       "      <td>False</td>\n",
       "      <td>False</td>\n",
       "      <td>False</td>\n",
       "      <td>False</td>\n",
       "      <td>False</td>\n",
       "      <td>False</td>\n",
       "    </tr>\n",
       "    <tr>\n",
       "      <th>1</th>\n",
       "      <td>team fortress classic</td>\n",
       "      <td>1999-04-01</td>\n",
       "      <td>valve</td>\n",
       "      <td>0</td>\n",
       "      <td>3318</td>\n",
       "      <td>633</td>\n",
       "      <td>277</td>\n",
       "      <td>3.99</td>\n",
       "      <td>7500000.0</td>\n",
       "      <td>True</td>\n",
       "      <td>False</td>\n",
       "      <td>False</td>\n",
       "      <td>False</td>\n",
       "      <td>False</td>\n",
       "      <td>False</td>\n",
       "      <td>False</td>\n",
       "      <td>False</td>\n",
       "    </tr>\n",
       "    <tr>\n",
       "      <th>2</th>\n",
       "      <td>day of defeat</td>\n",
       "      <td>2003-05-01</td>\n",
       "      <td>valve</td>\n",
       "      <td>0</td>\n",
       "      <td>3416</td>\n",
       "      <td>398</td>\n",
       "      <td>187</td>\n",
       "      <td>3.99</td>\n",
       "      <td>7500000.0</td>\n",
       "      <td>True</td>\n",
       "      <td>False</td>\n",
       "      <td>False</td>\n",
       "      <td>False</td>\n",
       "      <td>False</td>\n",
       "      <td>False</td>\n",
       "      <td>False</td>\n",
       "      <td>False</td>\n",
       "    </tr>\n",
       "    <tr>\n",
       "      <th>3</th>\n",
       "      <td>deathmatch classic</td>\n",
       "      <td>2001-06-01</td>\n",
       "      <td>valve</td>\n",
       "      <td>0</td>\n",
       "      <td>1273</td>\n",
       "      <td>267</td>\n",
       "      <td>258</td>\n",
       "      <td>3.99</td>\n",
       "      <td>7500000.0</td>\n",
       "      <td>True</td>\n",
       "      <td>False</td>\n",
       "      <td>False</td>\n",
       "      <td>False</td>\n",
       "      <td>False</td>\n",
       "      <td>False</td>\n",
       "      <td>False</td>\n",
       "      <td>False</td>\n",
       "    </tr>\n",
       "    <tr>\n",
       "      <th>4</th>\n",
       "      <td>half-life: opposing force</td>\n",
       "      <td>1999-11-01</td>\n",
       "      <td>gearbox software</td>\n",
       "      <td>0</td>\n",
       "      <td>5250</td>\n",
       "      <td>288</td>\n",
       "      <td>624</td>\n",
       "      <td>3.99</td>\n",
       "      <td>7500000.0</td>\n",
       "      <td>True</td>\n",
       "      <td>False</td>\n",
       "      <td>False</td>\n",
       "      <td>False</td>\n",
       "      <td>False</td>\n",
       "      <td>False</td>\n",
       "      <td>False</td>\n",
       "      <td>False</td>\n",
       "    </tr>\n",
       "  </tbody>\n",
       "</table>\n",
       "</div>"
      ],
      "text/plain": [
       "                        name release_date         developer  achievements  \\\n",
       "0             counter-strike   2000-11-01             valve             0   \n",
       "1      team fortress classic   1999-04-01             valve             0   \n",
       "2              day of defeat   2003-05-01             valve             0   \n",
       "3         deathmatch classic   2001-06-01             valve             0   \n",
       "4  half-life: opposing force   1999-11-01  gearbox software             0   \n",
       "\n",
       "   positive_ratings  negative_ratings  avg_hours_per_user  price       sells  \\\n",
       "0            124534              3339               17612   7.19  15000000.0   \n",
       "1              3318               633                 277   3.99   7500000.0   \n",
       "2              3416               398                 187   3.99   7500000.0   \n",
       "3              1273               267                 258   3.99   7500000.0   \n",
       "4              5250               288                 624   3.99   7500000.0   \n",
       "\n",
       "   action  adventure    rpg  simulation  strategy  racing  free_to_play  \\\n",
       "0    True      False  False       False     False   False         False   \n",
       "1    True      False  False       False     False   False         False   \n",
       "2    True      False  False       False     False   False         False   \n",
       "3    True      False  False       False     False   False         False   \n",
       "4    True      False  False       False     False   False         False   \n",
       "\n",
       "   early_access  \n",
       "0         False  \n",
       "1         False  \n",
       "2         False  \n",
       "3         False  \n",
       "4         False  "
      ]
     },
     "execution_count": 29,
     "metadata": {},
     "output_type": "execute_result"
    }
   ],
   "source": [
    "df.head()"
   ]
  },
  {
   "cell_type": "code",
   "execution_count": 30,
   "id": "02565eff",
   "metadata": {
    "scrolled": true
   },
   "outputs": [
    {
     "data": {
      "text/plain": [
       "Index(['name', 'release_date', 'developer', 'achievements', 'positive_ratings',\n",
       "       'negative_ratings', 'avg_hours_per_user', 'price', 'sells', 'action',\n",
       "       'adventure', 'rpg', 'simulation', 'strategy', 'racing', 'free_to_play',\n",
       "       'early_access'],\n",
       "      dtype='object')"
      ]
     },
     "execution_count": 30,
     "metadata": {},
     "output_type": "execute_result"
    }
   ],
   "source": [
    "df.columns"
   ]
  },
  {
   "cell_type": "code",
   "execution_count": 31,
   "id": "0dcd78b6",
   "metadata": {},
   "outputs": [],
   "source": [
    "#Definimos los géneros presentes en el DataFrame en una variable\n",
    "generos = ['action', 'adventure', 'rpg', 'simulation', 'strategy', 'racing']"
   ]
  },
  {
   "cell_type": "code",
   "execution_count": 32,
   "id": "7278b3e8",
   "metadata": {},
   "outputs": [
    {
     "name": "stdout",
     "output_type": "stream",
     "text": [
      "Género más vendido: action con 2361680000.0 ventas.\n"
     ]
    }
   ],
   "source": [
    "# Creamos una lista para almacenar las filas\n",
    "ventas_por_genero = []\n",
    "\n",
    "# Calculamos las ventas totales por género\n",
    "for genero in generos:\n",
    "    total_ventas = df[df[genero] == True]['sells'].sum()  # Sumar ventas donde el género es True\n",
    "    ventas_por_genero.append({'genero': genero, 'ventas': total_ventas})\n",
    "\n",
    "# Convertimos la lista a un DataFrame\n",
    "ventas_por_genero_df = pd.DataFrame(ventas_por_genero)\n",
    "\n",
    "# Encontramos el género más vendido\n",
    "genero_mas_vendido = ventas_por_genero_df.loc[ventas_por_genero_df['ventas'].idxmax()]\n",
    "\n",
    "print(f\"Género más vendido: {genero_mas_vendido['genero']} con {genero_mas_vendido['ventas']} ventas.\")"
   ]
  },
  {
   "cell_type": "code",
   "execution_count": 33,
   "id": "3af862a1",
   "metadata": {},
   "outputs": [
    {
     "data": {
      "image/png": "[encoded data removed]",
      "text/plain": [
       "<Figure size 1000x600 with 1 Axes>"
      ]
     },
     "metadata": {},
     "output_type": "display_data"
    }
   ],
   "source": [
    "#Configuramos el estilo de Seaborn\n",
    "sns.set(style=\"whitegrid\")\n",
    "\n",
    "#Creamos el gráfico de barras\n",
    "plt.figure(figsize=(10, 6))\n",
    "sns.barplot(x='ventas', y='genero', data=ventas_por_genero_df, palette='viridis')\n",
    "\n",
    "#Añadimos los títulos y etiquetas\n",
    "plt.title('Ventas Totales por Género de Videojuegos')\n",
    "plt.xlabel('Ventas Totales')\n",
    "plt.ylabel('Género')\n",
    "\n",
    "#Mostramos el gráfico\n",
    "plt.show()"
   ]
  },
  {
   "cell_type": "markdown",
   "id": "ae31c80d",
   "metadata": {},
   "source": [
    "## Qué géneros tienen mejores reviews de media?"
   ]
  },
  {
   "cell_type": "code",
   "execution_count": 34,
   "id": "201442f3",
   "metadata": {},
   "outputs": [
    {
     "name": "stdout",
     "output_type": "stream",
     "text": [
      "Género con mejor review promedio: action con una media de 1582.06 ratings positivos.\n"
     ]
    }
   ],
   "source": [
    "#Crearemos una lista para almacenar las filas\n",
    "media_reviews_por_genero = []\n",
    "\n",
    "#Calculamos la media de reviews para cada género\n",
    "for genero in generos:\n",
    "    # Filtramos juegos del género y calculamos la media de las calificaciones positivas\n",
    "    media_reviews = df[df[genero] == True]['positive_ratings'].mean()\n",
    "    # Añadimos a la lista\n",
    "    media_reviews_por_genero.append({'genero': genero, 'media_reviews': media_reviews})\n",
    "\n",
    "# Convertimos la lista a un DataFrame\n",
    "media_reviews_por_genero_df = pd.DataFrame(media_reviews_por_genero)\n",
    "\n",
    "# Encontramos el género con mejor review promedio\n",
    "mejor_genero = media_reviews_por_genero_df.loc[media_reviews_por_genero_df['media_reviews'].idxmax()]\n",
    "\n",
    "print(f\"Género con mejor review promedio: {mejor_genero['genero']} con una media de {mejor_genero['media_reviews']:.2f} ratings positivos.\")"
   ]
  },
  {
   "cell_type": "code",
   "execution_count": 35,
   "id": "67f877d6",
   "metadata": {},
   "outputs": [
    {
     "data": {
      "image/png": "[encoded data removed]",
      "text/plain": [
       "<Figure size 1000x600 with 1 Axes>"
      ]
     },
     "metadata": {},
     "output_type": "display_data"
    }
   ],
   "source": [
    "#Configuramos el estilo de Seaborn\n",
    "sns.set(style=\"whitegrid\")\n",
    "\n",
    "#Creamos el gráfico de barras\n",
    "plt.figure(figsize=(10, 6))\n",
    "sns.barplot(x='media_reviews', y='genero', data=media_reviews_por_genero_df, palette='viridis')\n",
    "\n",
    "#Añadimos los títulos y etiquetas\n",
    "plt.title('Media de Reviews Positivos por Género')\n",
    "plt.xlabel('Media de Reviews Positivos')\n",
    "plt.ylabel('Género')\n",
    "\n",
    "#Mostramos el gráfico\n",
    "plt.show()"
   ]
  },
  {
   "cell_type": "markdown",
   "id": "1f001109",
   "metadata": {},
   "source": [
    "## Cuánto ha ganado el desarrollador que más juegos ha vendido?"
   ]
  },
  {
   "cell_type": "code",
   "execution_count": 36,
   "id": "923ea190",
   "metadata": {},
   "outputs": [
    {
     "name": "stdout",
     "output_type": "stream",
     "text": [
      "Desarrollador que más ha vendido: valve, Ganancias: 405750000.0\n"
     ]
    }
   ],
   "source": [
    "# Agrupamos por desarrollador y sumaremos las ventas\n",
    "ganancias_desarrollador = df.groupby('developer')['sells'].sum()\n",
    "desarrollador_mas_vendido = ganancias_desarrollador.idxmax()\n",
    "ganancia_maxima = ganancias_desarrollador.max()\n",
    "print(f\"Desarrollador que más ha vendido: {desarrollador_mas_vendido}, Ganancias: {ganancia_maxima}\")"
   ]
  },
  {
   "cell_type": "markdown",
   "id": "8546f78c",
   "metadata": {},
   "source": [
    "## Cómo afecta a las reviews que un juego sea Early Access?"
   ]
  },
  {
   "cell_type": "code",
   "execution_count": 37,
   "id": "775dbf55",
   "metadata": {
    "scrolled": true
   },
   "outputs": [
    {
     "name": "stdout",
     "output_type": "stream",
     "text": [
      "early_access\n",
      "False    1075.569628\n",
      "True      388.183204\n",
      "Name: positive_ratings, dtype: float64\n"
     ]
    }
   ],
   "source": [
    "# Comparamos las calificaciones promedio entre juegos Early Access y no Early Access\n",
    "early_access_reviews = df.groupby('early_access')['positive_ratings'].mean()\n",
    "print(early_access_reviews)"
   ]
  },
  {
   "cell_type": "code",
   "execution_count": 38,
   "id": "1428225a",
   "metadata": {},
   "outputs": [
    {
     "data": {
      "image/png": "[encoded data removed]",
      "text/plain": [
       "<Figure size 800x800 with 1 Axes>"
      ]
     },
     "metadata": {},
     "output_type": "display_data"
    }
   ],
   "source": [
    "# Calculamos las calificaciones promedio entre juegos Early Access y no Early Access\n",
    "early_access_reviews = df.groupby('early_access')['positive_ratings'].mean()\n",
    "\n",
    "# Creamos el gráfico de torta\n",
    "plt.figure(figsize=(8, 8))  # Ajustar el tamaño del gráfico\n",
    "plt.pie(early_access_reviews, labels=['No Early Access', 'Early Access'], autopct='%1.1f%%', startangle=90)\n",
    "\n",
    "# Añadimos un título\n",
    "plt.title('Comparación de Calificaciones Promedio: Juegos Early Access vs No Early Access')\n",
    "\n",
    "# Mostramos el gráfico\n",
    "plt.axis('equal')  # Para que el gráfico sea un círculo\n",
    "plt.show()"
   ]
  },
  {
   "cell_type": "markdown",
   "id": "79b52e68",
   "metadata": {},
   "source": [
    "## Cuál es el desarrollador (o desarrolladores) que más tipos de juego y cantidad ha desarrollado?"
   ]
  },
  {
   "cell_type": "code",
   "execution_count": 42,
   "id": "ed608338",
   "metadata": {},
   "outputs": [
    {
     "name": "stdout",
     "output_type": "stream",
     "text": [
      "Desarrollador con más juegos: choice of games con 94 juegos.\n"
     ]
    }
   ],
   "source": [
    "# Agrupamos por desarrollador y contamos la cantidad total de juegos\n",
    "desarrolladores_info_df = df.groupby('developer').size().reset_index(name='total_games')\n",
    "\n",
    "# Encontramos el desarrollador con más juegos\n",
    "max_developer = desarrolladores_info_df.loc[desarrolladores_info_df['total_games'].idxmax()]\n",
    "\n",
    "print(f\"Desarrollador con más juegos: {max_developer['developer']} \"\n",
    "      f\"con {max_developer['total_games']} juegos.\")"
   ]
  },
  {
   "cell_type": "markdown",
   "id": "19762f5f",
   "metadata": {},
   "source": [
    "## En qué mes, desde que tenemos datos, se han publicado más juegos?"
   ]
  },
  {
   "cell_type": "code",
   "execution_count": 43,
   "id": "13a444d0",
   "metadata": {},
   "outputs": [
    {
     "name": "stdout",
     "output_type": "stream",
     "text": [
      "Mes con más juegos publicados: March\n"
     ]
    }
   ],
   "source": [
    "# Extraemos el mes y contamos los juegos publicados por mes\n",
    "df['month'] = df['release_date'].dt.month_name()\n",
    "mes_mas_juegos = df['month'].value_counts().idxmax()\n",
    "print(f\"Mes con más juegos publicados: {mes_mas_juegos}\")"
   ]
  },
  {
   "cell_type": "markdown",
   "id": "5c8f200a",
   "metadata": {},
   "source": [
    "## Cuántas horas se juega de media a cada tipo de juego mensualmente?"
   ]
  },
  {
   "cell_type": "code",
   "execution_count": 44,
   "id": "73f4c527",
   "metadata": {
    "scrolled": true
   },
   "outputs": [
    {
     "data": {
      "text/html": [
       "<div>\n",
       "<style scoped>\n",
       "    .dataframe tbody tr th:only-of-type {\n",
       "        vertical-align: middle;\n",
       "    }\n",
       "\n",
       "    .dataframe tbody tr th {\n",
       "        vertical-align: top;\n",
       "    }\n",
       "\n",
       "    .dataframe thead th {\n",
       "        text-align: right;\n",
       "    }\n",
       "</style>\n",
       "<table border=\"1\" class=\"dataframe\">\n",
       "  <thead>\n",
       "    <tr style=\"text-align: right;\">\n",
       "      <th></th>\n",
       "      <th>month</th>\n",
       "      <th>avg_hours_per_user</th>\n",
       "    </tr>\n",
       "  </thead>\n",
       "  <tbody>\n",
       "    <tr>\n",
       "      <th>0</th>\n",
       "      <td>April</td>\n",
       "      <td>111.577760</td>\n",
       "    </tr>\n",
       "    <tr>\n",
       "      <th>1</th>\n",
       "      <td>August</td>\n",
       "      <td>140.651522</td>\n",
       "    </tr>\n",
       "    <tr>\n",
       "      <th>2</th>\n",
       "      <td>December</td>\n",
       "      <td>137.312922</td>\n",
       "    </tr>\n",
       "    <tr>\n",
       "      <th>3</th>\n",
       "      <td>February</td>\n",
       "      <td>158.461935</td>\n",
       "    </tr>\n",
       "    <tr>\n",
       "      <th>4</th>\n",
       "      <td>January</td>\n",
       "      <td>99.897163</td>\n",
       "    </tr>\n",
       "    <tr>\n",
       "      <th>5</th>\n",
       "      <td>July</td>\n",
       "      <td>121.228271</td>\n",
       "    </tr>\n",
       "    <tr>\n",
       "      <th>6</th>\n",
       "      <td>June</td>\n",
       "      <td>134.359932</td>\n",
       "    </tr>\n",
       "    <tr>\n",
       "      <th>7</th>\n",
       "      <td>March</td>\n",
       "      <td>146.550136</td>\n",
       "    </tr>\n",
       "    <tr>\n",
       "      <th>8</th>\n",
       "      <td>May</td>\n",
       "      <td>250.009223</td>\n",
       "    </tr>\n",
       "    <tr>\n",
       "      <th>9</th>\n",
       "      <td>November</td>\n",
       "      <td>176.838488</td>\n",
       "    </tr>\n",
       "    <tr>\n",
       "      <th>10</th>\n",
       "      <td>October</td>\n",
       "      <td>154.700120</td>\n",
       "    </tr>\n",
       "    <tr>\n",
       "      <th>11</th>\n",
       "      <td>September</td>\n",
       "      <td>165.599831</td>\n",
       "    </tr>\n",
       "  </tbody>\n",
       "</table>\n",
       "</div>"
      ],
      "text/plain": [
       "        month  avg_hours_per_user\n",
       "0       April          111.577760\n",
       "1      August          140.651522\n",
       "2    December          137.312922\n",
       "3    February          158.461935\n",
       "4     January           99.897163\n",
       "5        July          121.228271\n",
       "6        June          134.359932\n",
       "7       March          146.550136\n",
       "8         May          250.009223\n",
       "9    November          176.838488\n",
       "10    October          154.700120\n",
       "11  September          165.599831"
      ]
     },
     "execution_count": 44,
     "metadata": {},
     "output_type": "execute_result"
    }
   ],
   "source": [
    "#Calculamos las horas jugadas mensualmente por tipo de juego (promedio)\n",
    "horas_mensuales_tipo_juego = df.groupby('month')['avg_hours_per_user'].mean().reset_index()\n",
    "\n",
    "horas_mensuales_tipo_juego"
   ]
  },
  {
   "cell_type": "code",
   "execution_count": 45,
   "id": "9ba31a08",
   "metadata": {},
   "outputs": [
    {
     "data": {
      "image/png": "[encoded data removed]",
      "text/plain": [
       "<Figure size 1200x600 with 1 Axes>"
      ]
     },
     "metadata": {},
     "output_type": "display_data"
    }
   ],
   "source": [
    "# Configuramos el estilo de Seaborn\n",
    "sns.set(style=\"whitegrid\")\n",
    "\n",
    "# Creamos el gráfico de barras\n",
    "plt.figure(figsize=(12, 6))  # Ajustar el tamaño del gráfico\n",
    "sns.barplot(x='month', y='avg_hours_per_user', data=horas_mensuales_tipo_juego, palette='viridis')\n",
    "\n",
    "# Añadimos los títulos y etiquetas\n",
    "plt.title('Horas Promedio Jugadas Mensualmente por Tipo de Juego')\n",
    "plt.xlabel('Mes')\n",
    "plt.ylabel('Horas Promedio por Usuario')\n",
    "\n",
    "# Rotamos las etiquetas del eje x para mejor legibilidad\n",
    "plt.xticks(rotation=45)\n",
    "\n",
    "# Mostramos el gráfico\n",
    "plt.show()"
   ]
  },
  {
   "cell_type": "markdown",
   "id": "f7004dc2",
   "metadata": {},
   "source": [
    "## Los juegos Free to Play tienen mejores o peores reviews?"
   ]
  },
  {
   "cell_type": "code",
   "execution_count": 46,
   "id": "b080651f",
   "metadata": {
    "scrolled": true
   },
   "outputs": [
    {
     "data": {
      "text/plain": [
       "free_to_play\n",
       "False     775.856011\n",
       "True     4346.627347\n",
       "Name: positive_ratings, dtype: float64"
      ]
     },
     "execution_count": 46,
     "metadata": {},
     "output_type": "execute_result"
    }
   ],
   "source": [
    "#Calculamos las calificaciones promedio entre juegos Free to Play y no Free to Play\n",
    "reviews_free_to_play = df.groupby('free_to_play')['positive_ratings'].mean()\n",
    "reviews_free_to_play"
   ]
  },
  {
   "cell_type": "code",
   "execution_count": 47,
   "id": "d41df545",
   "metadata": {},
   "outputs": [
    {
     "data": {
      "image/png": "[encoded data removed]",
      "text/plain": [
       "<Figure size 800x800 with 1 Axes>"
      ]
     },
     "metadata": {},
     "output_type": "display_data"
    }
   ],
   "source": [
    "#Creamos el gráfico de torta\n",
    "plt.figure(figsize=(8, 8))  # Ajustar el tamaño del gráfico\n",
    "plt.pie(reviews_free_to_play, labels=['No Free to Play', 'Free to Play'], autopct='%1.1f%%', startangle=90)\n",
    "\n",
    "#Añadimos un título\n",
    "plt.title('Comparación de Calificaciones Promedio: Juegos Free to Play vs No Free to Play')\n",
    "\n",
    "# Mostramos el gráfico\n",
    "plt.axis('equal')  # Para que el gráfico sea un círculo\n",
    "plt.show()"
   ]
  },
  {
   "cell_type": "markdown",
   "id": "3acaca33",
   "metadata": {},
   "source": [
    "## Cómo ha evolucionado el número de achievements (trofeos) por juego?"
   ]
  },
  {
   "cell_type": "code",
   "execution_count": 48,
   "id": "09942fed",
   "metadata": {},
   "outputs": [
    {
     "data": {
      "text/html": [
       "<div>\n",
       "<style scoped>\n",
       "    .dataframe tbody tr th:only-of-type {\n",
       "        vertical-align: middle;\n",
       "    }\n",
       "\n",
       "    .dataframe tbody tr th {\n",
       "        vertical-align: top;\n",
       "    }\n",
       "\n",
       "    .dataframe thead th {\n",
       "        text-align: right;\n",
       "    }\n",
       "</style>\n",
       "<table border=\"1\" class=\"dataframe\">\n",
       "  <thead>\n",
       "    <tr style=\"text-align: right;\">\n",
       "      <th></th>\n",
       "      <th>year</th>\n",
       "      <th>achievements</th>\n",
       "    </tr>\n",
       "  </thead>\n",
       "  <tbody>\n",
       "    <tr>\n",
       "      <th>0</th>\n",
       "      <td>1997</td>\n",
       "      <td>0.000000</td>\n",
       "    </tr>\n",
       "    <tr>\n",
       "      <th>1</th>\n",
       "      <td>1998</td>\n",
       "      <td>0.000000</td>\n",
       "    </tr>\n",
       "    <tr>\n",
       "      <th>2</th>\n",
       "      <td>1999</td>\n",
       "      <td>0.000000</td>\n",
       "    </tr>\n",
       "    <tr>\n",
       "      <th>3</th>\n",
       "      <td>2000</td>\n",
       "      <td>0.000000</td>\n",
       "    </tr>\n",
       "    <tr>\n",
       "      <th>4</th>\n",
       "      <td>2001</td>\n",
       "      <td>0.000000</td>\n",
       "    </tr>\n",
       "    <tr>\n",
       "      <th>5</th>\n",
       "      <td>2002</td>\n",
       "      <td>0.000000</td>\n",
       "    </tr>\n",
       "    <tr>\n",
       "      <th>6</th>\n",
       "      <td>2003</td>\n",
       "      <td>0.000000</td>\n",
       "    </tr>\n",
       "    <tr>\n",
       "      <th>7</th>\n",
       "      <td>2004</td>\n",
       "      <td>30.000000</td>\n",
       "    </tr>\n",
       "    <tr>\n",
       "      <th>8</th>\n",
       "      <td>2005</td>\n",
       "      <td>0.000000</td>\n",
       "    </tr>\n",
       "    <tr>\n",
       "      <th>9</th>\n",
       "      <td>2006</td>\n",
       "      <td>3.020833</td>\n",
       "    </tr>\n",
       "    <tr>\n",
       "      <th>10</th>\n",
       "      <td>2007</td>\n",
       "      <td>6.107527</td>\n",
       "    </tr>\n",
       "    <tr>\n",
       "      <th>11</th>\n",
       "      <td>2008</td>\n",
       "      <td>5.427586</td>\n",
       "    </tr>\n",
       "    <tr>\n",
       "      <th>12</th>\n",
       "      <td>2009</td>\n",
       "      <td>6.770492</td>\n",
       "    </tr>\n",
       "    <tr>\n",
       "      <th>13</th>\n",
       "      <td>2010</td>\n",
       "      <td>15.592437</td>\n",
       "    </tr>\n",
       "    <tr>\n",
       "      <th>14</th>\n",
       "      <td>2011</td>\n",
       "      <td>26.631799</td>\n",
       "    </tr>\n",
       "    <tr>\n",
       "      <th>15</th>\n",
       "      <td>2012</td>\n",
       "      <td>30.696875</td>\n",
       "    </tr>\n",
       "    <tr>\n",
       "      <th>16</th>\n",
       "      <td>2013</td>\n",
       "      <td>38.007177</td>\n",
       "    </tr>\n",
       "    <tr>\n",
       "      <th>17</th>\n",
       "      <td>2014</td>\n",
       "      <td>19.876527</td>\n",
       "    </tr>\n",
       "    <tr>\n",
       "      <th>18</th>\n",
       "      <td>2015</td>\n",
       "      <td>19.205237</td>\n",
       "    </tr>\n",
       "    <tr>\n",
       "      <th>19</th>\n",
       "      <td>2016</td>\n",
       "      <td>19.296721</td>\n",
       "    </tr>\n",
       "    <tr>\n",
       "      <th>20</th>\n",
       "      <td>2017</td>\n",
       "      <td>74.405852</td>\n",
       "    </tr>\n",
       "    <tr>\n",
       "      <th>21</th>\n",
       "      <td>2018</td>\n",
       "      <td>63.519181</td>\n",
       "    </tr>\n",
       "    <tr>\n",
       "      <th>22</th>\n",
       "      <td>2019</td>\n",
       "      <td>13.282422</td>\n",
       "    </tr>\n",
       "  </tbody>\n",
       "</table>\n",
       "</div>"
      ],
      "text/plain": [
       "    year  achievements\n",
       "0   1997      0.000000\n",
       "1   1998      0.000000\n",
       "2   1999      0.000000\n",
       "3   2000      0.000000\n",
       "4   2001      0.000000\n",
       "5   2002      0.000000\n",
       "6   2003      0.000000\n",
       "7   2004     30.000000\n",
       "8   2005      0.000000\n",
       "9   2006      3.020833\n",
       "10  2007      6.107527\n",
       "11  2008      5.427586\n",
       "12  2009      6.770492\n",
       "13  2010     15.592437\n",
       "14  2011     26.631799\n",
       "15  2012     30.696875\n",
       "16  2013     38.007177\n",
       "17  2014     19.876527\n",
       "18  2015     19.205237\n",
       "19  2016     19.296721\n",
       "20  2017     74.405852\n",
       "21  2018     63.519181\n",
       "22  2019     13.282422"
      ]
     },
     "execution_count": 48,
     "metadata": {},
     "output_type": "execute_result"
    }
   ],
   "source": [
    "# Extraemos el año de la fecha de lanzamiento\n",
    "df['year'] = df['release_date'].dt.year\n",
    "\n",
    "# Agrupamos por año y calculamos el número promedio de achievements\n",
    "achievement_evolution = df.groupby('year')['achievements'].mean().reset_index()\n",
    "achievement_evolution"
   ]
  },
  {
   "cell_type": "code",
   "execution_count": 49,
   "id": "4d08f3c3",
   "metadata": {},
   "outputs": [
    {
     "data": {
      "image/png": "[encoded data removed]",
      "text/plain": [
       "<Figure size 1000x500 with 1 Axes>"
      ]
     },
     "metadata": {},
     "output_type": "display_data"
    }
   ],
   "source": [
    "# Creamos el gráfico de líneas\n",
    "plt.figure(figsize=(10, 5))\n",
    "plt.plot(achievement_evolution['year'], achievement_evolution['achievements'], marker='o')\n",
    "\n",
    "# Añadimos los títulos y etiquetas\n",
    "plt.title('Evolución del Número Promedio de Achievements por Juego')\n",
    "plt.xlabel('Año')\n",
    "plt.ylabel('Número Promedio de Achievements')\n",
    "plt.grid()\n",
    "\n",
    "# Mostramos el gráfico\n",
    "plt.xticks(achievement_evolution['year'], rotation=45)\n",
    "plt.tight_layout()  # Ajustamos el layout para que no se corten las etiquetas\n",
    "plt.show()"
   ]
  }
 ],
 "metadata": {
  "kernelspec": {
   "display_name": "Python 3 (ipykernel)",
   "language": "python",
   "name": "python3"
  },
  "language_info": {
   "codemirror_mode": {
    "name": "ipython",
    "version": 3
   },
   "file_extension": ".py",
   "mimetype": "text/x-python",
   "name": "python",
   "nbconvert_exporter": "python",
   "pygments_lexer": "ipython3",
   "version": "3.11.5"
  },
  "toc": {
   "base_numbering": 1,
   "nav_menu": {},
   "number_sections": true,
   "sideBar": true,
   "skip_h1_title": false,
   "title_cell": "Table of Contents",
   "title_sidebar": "Contents",
   "toc_cell": false,
   "toc_position": {
    "height": "calc(100% - 180px)",
    "left": "10px",
    "top": "150px",
    "width": "165px"
   },
   "toc_section_display": true,
   "toc_window_display": true
  }
 },
 "nbformat": 4,
 "nbformat_minor": 5
}
